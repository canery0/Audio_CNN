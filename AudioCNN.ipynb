{
 "cells": [
  {
   "cell_type": "code",
   "execution_count": 1,
   "metadata": {},
   "outputs": [
    {
     "name": "stdout",
     "output_type": "stream",
     "text": [
      "cpu  used for training\n"
     ]
    }
   ],
   "source": [
    "import pandas as pd\n",
    "import matplotlib.pyplot as plt\n",
    "import torch\n",
    "import torch.nn as nn\n",
    "from torch.functional import F\n",
    "from dataset import *\n",
    "from models import *\n",
    "from options import Options\n",
    "from utils import *\n",
    "from IPython.display import clear_output\n",
    "import os\n",
    "from tqdm import tqdm\n",
    "import argparse\n",
    "\n",
    "device = 'cuda' if torch.cuda.is_available() else 'cpu'\n",
    "print(device, \" used for training\")"
   ]
  },
  {
   "cell_type": "code",
   "execution_count": 2,
   "metadata": {},
   "outputs": [],
   "source": [
    "data=pd.read_csv(\"SongLabel.csv\")\n",
    "data.head(1)\n",
    "\n",
    "train_df = data.sample(frac=0.8, random_state=42)\n",
    "test_df = data.drop(train_df.index)\n",
    "train_df = train_df.reset_index(drop=True)\n",
    "test_df = test_df.reset_index(drop=True)"
   ]
  },
  {
   "cell_type": "code",
   "execution_count": 3,
   "metadata": {},
   "outputs": [],
   "source": [
    "class Audio(Dataset):\n",
    "    def __init__(self, df, step=200):\n",
    "        self.df = df\n",
    "        self.step=step\n",
    "\n",
    "    def __len__(self):\n",
    "        return len(self.df)\n",
    "    \n",
    "    def __getitem__(self, index):\n",
    "        folder, emotion = self.df.loc[index, ['folder', 'emotion']]\n",
    "        song=os.listdir(f\"Songs/{folder}/.\")[0]\n",
    "        x, fs = librosa.load(f\"Songs\\{folder}\\{song}\")\n",
    "        start_time = 60  # 1:00\n",
    "        end_time = 90    # 2:10\n",
    "\n",
    "        # Convert time to samples\n",
    "        start_sample = int(start_time * fs)\n",
    "        end_sample = int(end_time * fs)\n",
    "\n",
    "\n",
    "        x = x[start_sample:end_sample]\n",
    "        x = torch.as_tensor(x)\n",
    "        emotion = torch.as_tensor(emotion)\n",
    "        return x.view(1,*x.shape), emotion\n",
    "    \n"
   ]
  },
  {
   "cell_type": "code",
   "execution_count": 4,
   "metadata": {},
   "outputs": [],
   "source": [
    "train_set = Audio(train_df)\n",
    "test_set = Audio(test_df)\n",
    "train_loader = DataLoader(train_set, shuffle=True, batch_size=10)\n",
    "test_loader = DataLoader(test_set, shuffle=True, batch_size=10)\n"
   ]
  },
  {
   "cell_type": "code",
   "execution_count": 5,
   "metadata": {},
   "outputs": [],
   "source": [
    "import torch\n",
    "import torch.nn as nn\n",
    "from torch.functional import F\n",
    "from torch.fft import fft, ifft"
   ]
  },
  {
   "cell_type": "code",
   "execution_count": 6,
   "metadata": {},
   "outputs": [],
   "source": [
    "class conv_layer(nn.Module):\n",
    "    def __init__(self, in_channels, out_channels, kernel_size):\n",
    "        super().__init__()\n",
    "        self.conv = nn.Conv1d(in_channels, out_channels, kernel_size)\n",
    "    def forward(self, X):\n",
    "        out = self.conv(X)\n",
    "        out = F.relu(out)\n",
    "        out = F.avg_pool1d(out, kernel_size=3)\n",
    "        return out\n",
    "    \n",
    "\n",
    "class CNN(nn.ModuleDict):\n",
    "    def __init__(self,channels,kernal_size,classes):\n",
    "        super().__init__()\n",
    "        self.features = nn.Sequential()\n",
    "        self.features.add_module(\"conv_layer\", nn.Conv1d(1, channels[0], kernal_size))\n",
    "        for i, (nin, nout) in enumerate(zip(channels[:-1], channels[1:])):\n",
    "            self.features.add_module(f\"conv_layer_{i}\", conv_layer(nin, nout, kernal_size))\n",
    "        self.features.add_module(f\"batch_norm\", nn.BatchNorm1d(channels[-1]))\n",
    "        self.classifier = nn.Linear(channels[-1], classes)\n",
    "\n",
    "    def forward(self, X):\n",
    "        out = self.features(X)\n",
    "        out = F.relu(out, inplace=True)\n",
    "        out = F.adaptive_avg_pool1d(out, 1)\n",
    "        out = torch.flatten(out, 1)\n",
    "        out = self.classifier(out)\n",
    "        return out\n",
    "    \n",
    "    "
   ]
  },
  {
   "cell_type": "code",
   "execution_count": 9,
   "metadata": {},
   "outputs": [],
   "source": [
    "channels=[16]*8\n",
    "model=CNN(channels,kernal_size=190,classes=4)"
   ]
  },
  {
   "cell_type": "code",
   "execution_count": 10,
   "metadata": {},
   "outputs": [
    {
     "name": "stdout",
     "output_type": "stream",
     "text": [
      "torch.Size([10, 1, 661500])\n",
      "tensor([[-0.0417,  0.0954,  0.1292, -0.1338],\n",
      "        [-0.0346,  0.0973,  0.1202, -0.1474],\n",
      "        [-0.0371,  0.0957,  0.1254, -0.1387],\n",
      "        [-0.0392,  0.0944,  0.1265, -0.1368],\n",
      "        [-0.0386,  0.0949,  0.1256, -0.1380],\n",
      "        [-0.0359,  0.0998,  0.1247, -0.1407],\n",
      "        [-0.0343,  0.0970,  0.1218, -0.1439],\n",
      "        [-0.0389,  0.0930,  0.1269, -0.1366],\n",
      "        [-0.0387,  0.0934,  0.1267, -0.1368],\n",
      "        [-0.0406,  0.0960,  0.1280, -0.1354]], grad_fn=<AddmmBackward0>)\n"
     ]
    }
   ],
   "source": [
    "for X,y in train_loader:\n",
    "    print(X.shape)\n",
    "    out=model(X)\n",
    "    print(out)\n",
    "    break"
   ]
  },
  {
   "cell_type": "code",
   "execution_count": 11,
   "metadata": {},
   "outputs": [],
   "source": [
    "def fit(model, train_loader, lossFn, optimizer):  \n",
    "    device = 'cuda' if next(model.parameters()).is_cuda else 'cpu'\n",
    "    train_loss = 0\n",
    "    train_accuracy = 0\n",
    "\n",
    "    model.train()\n",
    "    for batch_idx, (X, y) in enumerate(train_loader):\n",
    "        X, y = X.to(device), y.to(device)\n",
    "        optimizer.zero_grad()\n",
    "        pred = model(X)\n",
    "        loss = lossFn(pred, y)\n",
    "        # print(loss.item())\n",
    "        train_loss += loss.item()\n",
    "        train_accuracy += torch.sum(F.softmax(pred, dim=1).argmax(axis=1) == y).item()\n",
    "        loss.backward()\n",
    "        optimizer.step()\n",
    "    train_accuracy /= len(train_loader.dataset)\n",
    "    return train_loss, train_accuracy\n",
    "\n",
    "def predict(model, test_loader):\n",
    "    device = 'cuda' if next(model.parameters()).is_cuda else 'cpu'\n",
    "    y_test = []\n",
    "    y_pred = []\n",
    "    test_accuracy = 0\n",
    "    \n",
    "    model.eval()\n",
    "    with torch.no_grad():\n",
    "        for batch_idx, (X, y) in enumerate(test_loader):\n",
    "            X, y = X.to(device), y.to(device)\n",
    "            pred = model(X)\n",
    "            y_test.extend(y.tolist())\n",
    "            y_pred.extend(F.softmax(pred, dim=1).argmax(axis=1).tolist())\n",
    "            test_accuracy += torch.sum(F.softmax(pred, dim=1).argmax(axis=1) == y).item()\n",
    "    test_accuracy /= len(test_loader.dataset)\n",
    "    return y_pred, y_test, test_accuracy"
   ]
  },
  {
   "cell_type": "code",
   "execution_count": 12,
   "metadata": {},
   "outputs": [
    {
     "name": "stderr",
     "output_type": "stream",
     "text": [
      "  0%|          | 0/100 [00:00<?, ?it/s]"
     ]
    },
    {
     "ename": "",
     "evalue": "",
     "output_type": "error",
     "traceback": [
      "\u001b[1;31mThe Kernel crashed while executing code in the the current cell or a previous cell. Please review the code in the cell(s) to identify a possible cause of the failure. Click <a href='https://aka.ms/vscodeJupyterKernelCrash'>here</a> for more info. View Jupyter <a href='command:jupyter.viewOutput'>log</a> for further details."
     ]
    }
   ],
   "source": [
    "model_folder=\"models/Incr_Batch_size\"\n",
    "os.makedirs(model_folder,exist_ok=True)\n",
    "lossFn = nn.CrossEntropyLoss()\n",
    "optimizer = torch.optim.Adam(model.parameters(), lr=1e-4)\n",
    "history = {\n",
    "    \"train_loss\": [],\n",
    "    \"train_accuracy\": [],\n",
    "    \"test_accuracy\": []\n",
    "}\n",
    "\n",
    "for epoch in tqdm(range(100)):\n",
    "\n",
    "    train_loss, train_accuracy = fit(model, train_loader, lossFn, optimizer)\n",
    "    _, _, test_accuracy = predict(model, test_loader)\n",
    "\n",
    "    state = {\n",
    "        'epoch': epoch,\n",
    "        'state_dict': model.state_dict(),\n",
    "        'optimizer': optimizer.state_dict()\n",
    "    }\n",
    "    if len(history['test_accuracy']) and test_accuracy >= max(history['test_accuracy']):\n",
    "        torch.save(state, f\"{model_folder}/best.pth\")\n",
    "    history['train_loss'].append(train_loss)\n",
    "    history['train_accuracy'].append(train_accuracy)\n",
    "    history['test_accuracy'].append(test_accuracy)\n",
    "\n",
    "    clear_output(wait=True)\n",
    "    fig, axs = plt.subplots(len(history),1,figsize=(10,10))\n",
    "    fig.suptitle(f\"Epoch {epoch}\")\n",
    "    for i, key in enumerate(history.keys()):\n",
    "        ax = axs[i]\n",
    "        ax.set_xlim(-0.1, epoch+0.1)\n",
    "        ax.set_title(key)\n",
    "\n",
    "        ax.plot(history[key])\n",
    "    plt.show()\n",
    "\n",
    "\n",
    "    torch.save(history, f\"{model_folder}/history.pth\")\n",
    "    torch.save(state, f\"{model_folder}/latest.pth\")"
   ]
  },
  {
   "cell_type": "code",
   "execution_count": 11,
   "metadata": {},
   "outputs": [],
   "source": [
    "_, _, test_accuracy = predict(model, test_loader)"
   ]
  },
  {
   "cell_type": "code",
   "execution_count": 12,
   "metadata": {},
   "outputs": [
    {
     "data": {
      "text/plain": [
       "0.10112359550561797"
      ]
     },
     "execution_count": 12,
     "metadata": {},
     "output_type": "execute_result"
    }
   ],
   "source": [
    "test_accuracy"
   ]
  },
  {
   "cell_type": "code",
   "execution_count": null,
   "metadata": {},
   "outputs": [],
   "source": []
  }
 ],
 "metadata": {
  "kernelspec": {
   "display_name": "work_env",
   "language": "python",
   "name": "python3"
  },
  "language_info": {
   "codemirror_mode": {
    "name": "ipython",
    "version": 3
   },
   "file_extension": ".py",
   "mimetype": "text/x-python",
   "name": "python",
   "nbconvert_exporter": "python",
   "pygments_lexer": "ipython3",
   "version": "3.11.4"
  }
 },
 "nbformat": 4,
 "nbformat_minor": 2
}
